{
 "cells": [
  {
   "cell_type": "code",
   "execution_count": 1,
   "id": "15cca9db-c72e-4ecb-8a2a-29e2efb114dd",
   "metadata": {},
   "outputs": [
    {
     "name": "stdout",
     "output_type": "stream",
     "text": [
      "WARNING:tensorflow:From C:\\Users\\Dell\\AppData\\Local\\Programs\\Python\\Python311\\Lib\\site-packages\\keras\\src\\losses.py:2976: The name tf.losses.sparse_softmax_cross_entropy is deprecated. Please use tf.compat.v1.losses.sparse_softmax_cross_entropy instead.\n",
      "\n"
     ]
    }
   ],
   "source": [
    "import tensorflow as tf\n",
    "from tensorflow import keras "
   ]
  },
  {
   "cell_type": "code",
   "execution_count": 13,
   "id": "14231a35-ed43-479f-b923-e6d249f7b189",
   "metadata": {},
   "outputs": [],
   "source": [
    "image_path = \"./words/g06/g06-011j/g06-011j-06-06.png\"\n",
    "batch_size = 32\n",
    "padding_token = 99\n",
    "image_width = 128\n",
    "image_height = 32\n",
    "\n",
    "characters = {'B', 'j', 'W', ',', 'O', 'v', 'E', '+', '6', 'S', 'h', 'R', \"'\", '?', 'C', '(', 'n', 'o', '4', 'f', 'U', 'a', 'r', '0', '2', 'L', 'Y', 'A', '5', 'e', 't', 'y', 'q', 'I', '9', '7', '&', 'K', 'k', 'F', 'w', 'V', 'P', '1', 'x', 'b', 'G', '\"', ':', 'Z', 'T', 'u', '!', '3', 'd', '-', '8', 'N', ';', 'Q', 'c', 'l', 'D', 'g', 'i', '/', 'M', 'H', 'm', 'X', 's', ')', '*', 'p', 'J', 'z', '#', '.'}"
   ]
  },
  {
   "cell_type": "code",
   "execution_count": 14,
   "id": "4ef2fa13-3406-40e4-9adb-c324f63e8e1e",
   "metadata": {},
   "outputs": [],
   "source": [
    "from tensorflow.keras.layers.experimental.preprocessing import StringLookup\n",
    "\n",
    "AUTOTUNE = tf.data.AUTOTUNE\n",
    "#TensorFlow will automatically decide the optimal values for characters.\n",
    "\n",
    "#mapping character to integer\n",
    "char_to_num = StringLookup(vocabulary = list(characters), mask_token=None)\n",
    "\n",
    "#mapping integers back to original characters.\n",
    "num_to_char = StringLookup(vocabulary = char_to_num.get_vocabulary(), mask_token=None, invert = True)\n",
    "def distortion_free_resize(image, img_size):\n",
    "  w,h = img_size\n",
    "  image = tf.image.resize(image, size=(h,w),preserve_aspect_ratio=True)  # size paraeter takes height first and then width\n",
    "  #The resulting image might not be exactly (h,w) pixels but will fit within these dimensions without any distortion.\n",
    "  # if any pixel left we will use padding\n",
    "\n",
    "  #checking the padding height and width\n",
    "  pad_height = h-tf.shape(image)[0]\n",
    "  pad_width = w-tf.shape(image)[1]\n",
    "\n",
    "  #Only necessary if you want to do some amount of padding on both sides.\n",
    "  if pad_height % 2 !=0:\n",
    "    height=pad_height//2\n",
    "    pad_height_top = height +1\n",
    "    pad_height_bottom = height\n",
    "  else:\n",
    "    pad_height_top = pad_height_bottom = pad_height // 2\n",
    "\n",
    "  if pad_width %2 != 0:\n",
    "    width = pad_width //2\n",
    "    pad_width_left = width +1\n",
    "    pad_width_right = width\n",
    "  else:\n",
    "    pad_width_left = pad_width_right = pad_width //2\n",
    "\n",
    "  image = tf.pad(\n",
    "      image,\n",
    "      paddings = [\n",
    "          [pad_height_top, pad_height_bottom],\n",
    "          [pad_width_left, pad_width_right],\n",
    "          [0,0],\n",
    "      ],\n",
    "\n",
    "  )\n",
    "  image = tf.transpose(image, perm=[1,0,2])\n",
    "  image = tf.image.flip_left_right(image)\n",
    "  # because tf.resize uses (h,w) way\n",
    "  return image\n"
   ]
  },
  {
   "cell_type": "code",
   "execution_count": 4,
   "id": "000197fe-2832-4038-b950-bdc909a637ad",
   "metadata": {},
   "outputs": [],
   "source": [
    "def preprocessing_image(image_path, img_size=(image_width, image_height)):\n",
    "  image = tf.io.read_file(image_path)\n",
    "  image = tf.image.decode_png(image,channels=1) # decode the png_encoded images into tensor , channel 1 for gray scale\n",
    "  image = distortion_free_resize(image,img_size)\n",
    "  image = tf.cast(image, tf.float32)/255.0  # data type conversion in tensor\n",
    "  return image"
   ]
  },
  {
   "cell_type": "code",
   "execution_count": 5,
   "id": "b1aa8941-bd55-42db-b78e-fbc2858983eb",
   "metadata": {},
   "outputs": [
    {
     "name": "stdout",
     "output_type": "stream",
     "text": [
      "A slice of the tensor:\n",
      " [[[0.        ]\n",
      "  [0.        ]\n",
      "  [0.        ]\n",
      "  ...\n",
      "  [0.        ]\n",
      "  [0.        ]\n",
      "  [0.        ]]\n",
      "\n",
      " [[0.        ]\n",
      "  [0.        ]\n",
      "  [0.        ]\n",
      "  ...\n",
      "  [0.        ]\n",
      "  [0.        ]\n",
      "  [0.        ]]\n",
      "\n",
      " [[0.        ]\n",
      "  [0.        ]\n",
      "  [0.        ]\n",
      "  ...\n",
      "  [0.        ]\n",
      "  [0.        ]\n",
      "  [0.        ]]\n",
      "\n",
      " ...\n",
      "\n",
      " [[0.93893987]\n",
      "  [0.5960302 ]\n",
      "  [0.33796838]\n",
      "  ...\n",
      "  [1.        ]\n",
      "  [1.        ]\n",
      "  [1.        ]]\n",
      "\n",
      " [[0.9843137 ]\n",
      "  [0.9385173 ]\n",
      "  [0.5268786 ]\n",
      "  ...\n",
      "  [1.        ]\n",
      "  [1.        ]\n",
      "  [1.        ]]\n",
      "\n",
      " [[0.95729166]\n",
      "  [0.9576374 ]\n",
      "  [0.9381595 ]\n",
      "  ...\n",
      "  [1.        ]\n",
      "  [1.        ]\n",
      "  [1.        ]]]\n"
     ]
    }
   ],
   "source": [
    "tensor = preprocessing_image(image_path)\n",
    "print(\"A slice of the tensor:\\n\", tensor.numpy()[:60, :60])"
   ]
  },
  {
   "cell_type": "code",
   "execution_count": 28,
   "id": "f610bcda-3d79-4123-a74b-184a32f19fd9",
   "metadata": {},
   "outputs": [],
   "source": [
    "max_len=21\n",
    "def decode_batch_prediction(pred):\n",
    "  input_len = np.ones(pred.shape[0])*pred.shape[1]\n",
    "\n",
    "  # Use greedy search For complex tasks , you can use beam search.\n",
    "  results = keras.backend.ctc_decode(pred, input_length=input_len, greedy = True )[0][0][:,:max_len]\n",
    "  print(results)\n",
    "  #Iterate over the results and get back the text.\n",
    "  output_text = []\n",
    "  for res in results:\n",
    "    res = tf.gather(res, tf.where(tf.math.not_equal(res, -1)))\n",
    "    print(res)\n",
    "    res = tf.strings.reduce_join(num_to_char(res)).numpy().decode(\"utf-8\")\n",
    "    print(res)\n",
    "    output_text.append(res)\n",
    "  return output_text"
   ]
  },
  {
   "cell_type": "code",
   "execution_count": 6,
   "id": "29b3915e-235f-4dbe-a711-74208ce9e51f",
   "metadata": {},
   "outputs": [
    {
     "name": "stdout",
     "output_type": "stream",
     "text": [
      "WARNING:tensorflow:From C:\\Users\\Dell\\AppData\\Local\\Programs\\Python\\Python311\\Lib\\site-packages\\keras\\src\\backend.py:1398: The name tf.executing_eagerly_outside_functions is deprecated. Please use tf.compat.v1.executing_eagerly_outside_functions instead.\n",
      "\n",
      "WARNING:tensorflow:From C:\\Users\\Dell\\AppData\\Local\\Programs\\Python\\Python311\\Lib\\site-packages\\keras\\src\\layers\\pooling\\max_pooling2d.py:161: The name tf.nn.max_pool is deprecated. Please use tf.nn.max_pool2d instead.\n",
      "\n",
      "WARNING:tensorflow:No training configuration found in the save file, so the model was *not* compiled. Compile it manually.\n"
     ]
    }
   ],
   "source": [
    "loaded_model = keras.models.load_model('model_V5.h5')"
   ]
  },
  {
   "cell_type": "code",
   "execution_count": 34,
   "id": "41fa4624-4a84-458c-a3cc-deb3783dc715",
   "metadata": {},
   "outputs": [
    {
     "name": "stdout",
     "output_type": "stream",
     "text": [
      "(128, 32, 1)\n",
      "1/1 [==============================] - 0s 33ms/step\n",
      "tf.Tensor([[22 17 55 -1 -1 -1 -1 -1 -1 -1 -1 -1 -1 -1 -1 -1 -1 -1 -1 -1 -1]], shape=(1, 21), dtype=int64)\n",
      "tf.Tensor(\n",
      "[[22]\n",
      " [17]\n",
      " [55]], shape=(3, 1), dtype=int64)\n",
      "and\n",
      "['and']\n"
     ]
    }
   ],
   "source": [
    "import numpy as np\n",
    "image = preprocessing_image(image_path)\n",
    "print(image.shape)\n",
    "image = np.expand_dims(image, axis=0)\n",
    "preds = loaded_model.predict(image)\n",
    "pred_texts = decode_batch_prediction(preds)\n",
    "print(pred_texts)"
   ]
  },
  {
   "cell_type": "code",
   "execution_count": 33,
   "id": "bf2925dd-2d80-48b9-bafe-61a9c6049203",
   "metadata": {},
   "outputs": [],
   "source": [
    "import tensorflow as tf\n",
    "from tensorflow.keras.layers.experimental.preprocessing import StringLookup\n",
    "characters = {'5', 'o', 'e', 'T', 'f', 'N', 'h', '!', 'S', '1', 'm', 'b', 'c', '.', 'q', 'U', '-', 'K', 'k', 'I', 'M', '2', 'W', 'Q', 'a', 'H', 'P', 'd', '?', '&', '*', 'V', 'R', 'w', 'r', ')', 'l', 'J', '/', 'D', 'i', 't', 'v', 'Y', 'A', 'E', '0', 'B', '\"', ';', 'p', '(', '+', 'L', ',', \"'\", 'j', 'n', 'C', '3', '9', 'g', '4', 'F', '8', 'G', 'x', 'Z', 'y', '#', 'X', '7', 's', ':', 'z', 'O', '6', 'u'}\n",
    "AUTOTUNE = tf.data.AUTOTUNE\n",
    "#TensorFlow will automatically decide the optimal values for characters.\n",
    "\n",
    "#mapping character to integer\n",
    "char_to_num = StringLookup(vocabulary = list(characters), mask_token=None)\n",
    "\n",
    "#mapping integers back to original characters.\n",
    "num_to_char = StringLookup(vocabulary = mapping, mask_token=None, invert = True)"
   ]
  },
  {
   "cell_type": "code",
   "execution_count": 31,
   "id": "fccc3944-cb9b-4d35-833f-4093d40db650",
   "metadata": {},
   "outputs": [],
   "source": [
    "mapping =['[UNK]',\n",
    " 'B',\n",
    " 'j',\n",
    " 'W',\n",
    " ',',\n",
    " 'O',\n",
    " 'v',\n",
    " 'E',\n",
    " '+',\n",
    " '6',\n",
    " 'S',\n",
    " 'h',\n",
    " 'R',\n",
    " \"'\",\n",
    " '?',\n",
    " 'C',\n",
    " '(',\n",
    " 'n',\n",
    " 'o',\n",
    " '4',\n",
    " 'f',\n",
    " 'U',\n",
    " 'a',\n",
    " 'r',\n",
    " '0',\n",
    " '2',\n",
    " 'L',\n",
    " 'Y',\n",
    " 'A',\n",
    " '5',\n",
    " 'e',\n",
    " 't',\n",
    " 'y',\n",
    " 'q',\n",
    " 'I',\n",
    " '9',\n",
    " '7',\n",
    " '&',\n",
    " 'K',\n",
    " 'k',\n",
    " 'F',\n",
    " 'w',\n",
    " 'V',\n",
    " 'P',\n",
    " '1',\n",
    " 'x',\n",
    " 'b',\n",
    " 'G',\n",
    " '\"',\n",
    " ':',\n",
    " 'Z',\n",
    " 'T',\n",
    " 'u',\n",
    " '!',\n",
    " '3',\n",
    " 'd',\n",
    " '-',\n",
    " '8',\n",
    " 'N',\n",
    " ';',\n",
    " 'Q',\n",
    " 'c',\n",
    " 'l',\n",
    " 'D',\n",
    " 'g',\n",
    " 'i',\n",
    " '/',\n",
    " 'M',\n",
    " 'H',\n",
    " 'm',\n",
    " 'X',\n",
    " 's',\n",
    " ')',\n",
    " '*',\n",
    " 'p',\n",
    " 'J',\n",
    " 'z',\n",
    " '#',\n",
    " '.']"
   ]
  },
  {
   "cell_type": "code",
   "execution_count": 12,
   "id": "c17e395e-3b0a-49c1-9e6e-6c571881e0ab",
   "metadata": {},
   "outputs": [
    {
     "data": {
      "text/plain": [
       "<keras.src.layers.preprocessing.string_lookup.StringLookup at 0x215ed9d6690>"
      ]
     },
     "execution_count": 12,
     "metadata": {},
     "output_type": "execute_result"
    }
   ],
   "source": [
    "char_to_num"
   ]
  },
  {
   "cell_type": "code",
   "execution_count": 13,
   "id": "4bc676e5-0de3-4e6e-b6c2-bfa5e8e3816d",
   "metadata": {},
   "outputs": [
    {
     "data": {
      "text/plain": [
       "<keras.src.layers.preprocessing.string_lookup.StringLookup at 0x215f0667c50>"
      ]
     },
     "execution_count": 13,
     "metadata": {},
     "output_type": "execute_result"
    }
   ],
   "source": [
    "num_to_char"
   ]
  },
  {
   "cell_type": "code",
   "execution_count": 15,
   "id": "7ff78f61-c8cb-45d9-b378-c342bc12db82",
   "metadata": {},
   "outputs": [
    {
     "name": "stdout",
     "output_type": "stream",
     "text": [
      "WARNING:tensorflow:From C:\\Users\\Dell\\AppData\\Local\\Programs\\Python\\Python311\\Lib\\site-packages\\keras\\src\\utils\\tf_utils.py:492: The name tf.ragged.RaggedTensorValue is deprecated. Please use tf.compat.v1.ragged.RaggedTensorValue instead.\n",
      "\n"
     ]
    },
    {
     "data": {
      "text/plain": [
       "<tf.Tensor: shape=(4,), dtype=int64, numpy=array([ 3, 37, 32, 42], dtype=int64)>"
      ]
     },
     "execution_count": 15,
     "metadata": {},
     "output_type": "execute_result"
    }
   ],
   "source": [
    "char_to_num(tf.strings.unicode_split(\"what\", input_encoding=\"UTF-8\"))"
   ]
  },
  {
   "cell_type": "code",
   "execution_count": 17,
   "id": "3351c591-aecb-4c49-8ef7-20c8a3232be9",
   "metadata": {},
   "outputs": [
    {
     "data": {
      "text/plain": [
       "['[UNK]',\n",
       " '-',\n",
       " 'r',\n",
       " 'w',\n",
       " 'S',\n",
       " 'D',\n",
       " 'Z',\n",
       " 'Q',\n",
       " 'J',\n",
       " 'I',\n",
       " '9',\n",
       " '0',\n",
       " 'j',\n",
       " 'F',\n",
       " 'o',\n",
       " 'L',\n",
       " 'n',\n",
       " 'f',\n",
       " 'M',\n",
       " 'g',\n",
       " 'e',\n",
       " 'Y',\n",
       " 'u',\n",
       " 'R',\n",
       " 'q',\n",
       " ':',\n",
       " 'P',\n",
       " 'V',\n",
       " ';',\n",
       " 'A',\n",
       " '?',\n",
       " '+',\n",
       " 'a',\n",
       " 'b',\n",
       " 'K',\n",
       " '4',\n",
       " 'B',\n",
       " 'h',\n",
       " 'O',\n",
       " 'N',\n",
       " '&',\n",
       " ',',\n",
       " 't',\n",
       " 'C',\n",
       " '/',\n",
       " 'd',\n",
       " 'H',\n",
       " 'T',\n",
       " '#',\n",
       " '5',\n",
       " '3',\n",
       " '6',\n",
       " '\"',\n",
       " 's',\n",
       " 'l',\n",
       " 'E',\n",
       " 'x',\n",
       " 'c',\n",
       " '7',\n",
       " 'p',\n",
       " 'z',\n",
       " 'W',\n",
       " 'X',\n",
       " ')',\n",
       " \"'\",\n",
       " '1',\n",
       " '2',\n",
       " 'y',\n",
       " '*',\n",
       " '8',\n",
       " '(',\n",
       " '!',\n",
       " 'U',\n",
       " 'G',\n",
       " 'k',\n",
       " '.',\n",
       " 'i',\n",
       " 'v',\n",
       " 'm']"
      ]
     },
     "execution_count": 17,
     "metadata": {},
     "output_type": "execute_result"
    }
   ],
   "source": [
    "char_to_num.get_vocabulary()"
   ]
  },
  {
   "cell_type": "code",
   "execution_count": null,
   "id": "fe240d38-125e-4406-8b80-c51b4f9baca3",
   "metadata": {},
   "outputs": [],
   "source": []
  }
 ],
 "metadata": {
  "kernelspec": {
   "display_name": "Python 3 (ipykernel)",
   "language": "python",
   "name": "python3"
  },
  "language_info": {
   "codemirror_mode": {
    "name": "ipython",
    "version": 3
   },
   "file_extension": ".py",
   "mimetype": "text/x-python",
   "name": "python",
   "nbconvert_exporter": "python",
   "pygments_lexer": "ipython3",
   "version": "3.11.1"
  }
 },
 "nbformat": 4,
 "nbformat_minor": 5
}
